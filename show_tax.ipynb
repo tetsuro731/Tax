{
 "cells": [
  {
   "cell_type": "code",
   "execution_count": 48,
   "metadata": {},
   "outputs": [],
   "source": [
    "# coding: utf-8\n",
    "import sys, os\n",
    "sys.path.append(os.pardir)  # 親ディレクトリのファイルをインポートするための設定\n",
    "from common.tax import Tax\n",
    "import numpy as np\n",
    "import pandas as pd\n",
    "from matplotlib import pyplot as plt\n",
    "import seaborn as sns\n",
    "%matplotlib inline\n",
    "pd.options.display.precision = 0\n",
    "plt.rcParams['font.family'] = 'AppleGothic'"
   ]
  },
  {
   "cell_type": "code",
   "execution_count": 49,
   "metadata": {},
   "outputs": [],
   "source": [
    "# 額面年収、200〜1,200万まで1万刻みで\n",
    "gross_salaries = [i for i in range(2000000,12010000, 1000000)]\n",
    "# 所得\n",
    "incomes = []\n",
    "# 税金\n",
    "total_taxes = []\n",
    "# 住民税\n",
    "inhabitant_taxes = []\n",
    "# 所得税\n",
    "income_taxes = []\n",
    "#社会保険料（=社会保険料控除）\n",
    "social_insurance_premiums = []\n",
    "# 手取り年収\n",
    "net_salaries = []"
   ]
  },
  {
   "cell_type": "code",
   "execution_count": 50,
   "metadata": {},
   "outputs": [
    {
     "name": "stdout",
     "output_type": "stream",
     "text": [
      "********************************\n",
      "gross_salary, income =  2000000 1320000.0\n",
      "gross_salary/16, income/16 =  125000.0 82500.0\n",
      "income_tax, inhabitant_tax, insurance_premiun =  10615.0 28730.0 247699.99999999997\n",
      "income_tax/16, inhabitant_tax/16, insurance_premiun/16 =  663.4375 1795.625 15481.249999999998\n",
      "net_salary =  1712955.0\n",
      "net_salary/16 =  107059.6875\n",
      "********************************\n",
      "gross_salary, income =  3000000 2020000.0\n",
      "gross_salary/16, income/16 =  187500.0 126250.0\n",
      "income_tax, inhabitant_tax, insurance_premiun =  39422.5 86345.0 371549.99999999994\n",
      "income_tax/16, inhabitant_tax/16, insurance_premiun/16 =  2463.90625 5396.5625 23221.874999999996\n",
      "net_salary =  2502682.5\n",
      "net_salary/16 =  156417.65625\n",
      "********************************\n",
      "gross_salary, income =  4000000 2760000.0\n",
      "gross_salary/16, income/16 =  250000.0 172500.0\n",
      "income_tax, inhabitant_tax, insurance_premiun =  70230.0 147960.0 495399.99999999994\n",
      "income_tax/16, inhabitant_tax/16, insurance_premiun/16 =  4389.375 9247.5 30962.499999999996\n",
      "net_salary =  3286410.0\n",
      "net_salary/16 =  205400.625\n",
      "********************************\n",
      "gross_salary, income =  5000000 3560000.0\n",
      "gross_salary/16, income/16 =  312500.0 222500.0\n",
      "income_tax, inhabitant_tax, insurance_premiun =  110575.0 215575.0 619249.9999999999\n",
      "income_tax/16, inhabitant_tax/16, insurance_premiun/16 =  6910.9375 13473.4375 38703.12499999999\n",
      "net_salary =  4054600.0\n",
      "net_salary/16 =  253412.5\n",
      "********************************\n",
      "gross_salary, income =  6000000 4360000.0\n",
      "gross_salary/16, income/16 =  375000.0 272500.0\n",
      "income_tax, inhabitant_tax, insurance_premiun =  178190.0 283190.0 743099.9999999999\n",
      "income_tax/16, inhabitant_tax/16, insurance_premiun/16 =  11136.875 17699.375 46443.74999999999\n",
      "net_salary =  4795520.0\n",
      "net_salary/16 =  299720.0\n",
      "********************************\n",
      "gross_salary, income =  7000000 5200000.0\n",
      "gross_salary/16, income/16 =  437500.0 325000.0\n",
      "income_tax, inhabitant_tax, insurance_premiun =  267110.0 354805.0 866949.9999999999\n",
      "income_tax/16, inhabitant_tax/16, insurance_premiun/16 =  16694.375 22175.3125 54184.37499999999\n",
      "net_salary =  5511135.0\n",
      "net_salary/16 =  344445.9375\n",
      "********************************\n",
      "gross_salary, income =  8000000 6100000.0\n",
      "gross_salary/16, income/16 =  500000.0 381250.0\n",
      "income_tax, inhabitant_tax, insurance_premiun =  422340.0 432420.0 990799.9999999999\n",
      "income_tax/16, inhabitant_tax/16, insurance_premiun/16 =  26396.25 27026.25 61924.99999999999\n",
      "net_salary =  6154440.0\n",
      "net_salary/16 =  384652.5\n",
      "********************************\n",
      "gross_salary, income =  9000000 7050000\n",
      "gross_salary/16, income/16 =  562500.0 440625.0\n",
      "income_tax, inhabitant_tax, insurance_premiun =  587570.0 515035.0 1114650.0\n",
      "income_tax/16, inhabitant_tax/16, insurance_premiun/16 =  36723.125 32189.6875 69665.625\n",
      "net_salary =  6782745.0\n",
      "net_salary/16 =  423921.5625\n",
      "********************************\n",
      "gross_salary, income =  10000000 8050000\n",
      "gross_salary/16, income/16 =  625000.0 503125.0\n",
      "income_tax, inhabitant_tax, insurance_premiun =  762800.0 602650.0 1238499.9999999998\n",
      "income_tax/16, inhabitant_tax/16, insurance_premiun/16 =  47675.0 37665.625 77406.24999999999\n",
      "net_salary =  7396050.0\n",
      "net_salary/16 =  462253.125\n",
      "********************************\n",
      "gross_salary, income =  11000000 9050000\n",
      "gross_salary/16, income/16 =  687500.0 565625.0\n",
      "income_tax, inhabitant_tax, insurance_premiun =  962030.0 702265.0 1362349.9999999998\n",
      "income_tax/16, inhabitant_tax/16, insurance_premiun/16 =  60126.875 43891.5625 85146.87499999999\n",
      "net_salary =  7973355.0\n",
      "net_salary/16 =  498334.6875\n",
      "********************************\n",
      "gross_salary, income =  12000000 10050000\n",
      "gross_salary/16, income/16 =  750000.0 628125.0\n",
      "income_tax, inhabitant_tax, insurance_premiun =  1193374.0 802880.0 1486199.9999999998\n",
      "income_tax/16, inhabitant_tax/16, insurance_premiun/16 =  74585.875 50180.0 92887.49999999999\n",
      "net_salary =  8517546.0\n",
      "net_salary/16 =  532346.625\n"
     ]
    }
   ],
   "source": [
    "for gross_salary in gross_salaries:\n",
    "#    #tax = Tax(gross_salary, partner, high_school_student, college_student, handicapped)\n",
    "    tax = Tax(gross_salary)\n",
    "    if(gross_salary %500000 == 0):\n",
    "        print(\"********************************\")\n",
    "        print(\"gross_salary, income = \", tax.gross_salary, tax.income)\n",
    "        print(\"gross_salary/16, income/16 = \", tax.gross_salary/16, tax.income/16)\n",
    "        print(\"income_tax, inhabitant_tax, insurance_premiun = \", tax.income_tax(), tax.inhabitant_tax(), tax.social_insurance_premium())\n",
    "        print(\"income_tax/16, inhabitant_tax/16, insurance_premiun/16 = \", tax.income_tax()/16, tax.inhabitant_tax()/16, tax.social_insurance_premium()/16)\n",
    "        print(\"net_salary = \", tax.net_salary())\n",
    "        print(\"net_salary/16 = \", tax.net_salary()/16)\n",
    "\n",
    "    # リストに値を追加\n",
    "    incomes.append(tax.income)\n",
    "    total_taxes.append(tax.income_tax() + tax.inhabitant_tax())\n",
    "    inhabitant_taxes.append(tax.inhabitant_tax())\n",
    "    income_taxes.append(tax.income_tax())\n",
    "    social_insurance_premiums.append(tax.social_insurance_premium())\n",
    "    net_salaries.append(tax.net_salary())"
   ]
  },
  {
   "cell_type": "code",
   "execution_count": 51,
   "metadata": {},
   "outputs": [],
   "source": [
    "df = pd.DataFrame()\n",
    "df['年収'] = gross_salaries\n",
    "df['手取り'] = net_salaries\n",
    "df['税金'] = total_taxes\n",
    "df['住民税'] = inhabitant_taxes\n",
    "df['所得税'] = income_taxes\n",
    "df['社会保険料'] = social_insurance_premiums"
   ]
  },
  {
   "cell_type": "code",
   "execution_count": 52,
   "metadata": {},
   "outputs": [
    {
     "data": {
      "text/html": [
       "<div>\n",
       "<style scoped>\n",
       "    .dataframe tbody tr th:only-of-type {\n",
       "        vertical-align: middle;\n",
       "    }\n",
       "\n",
       "    .dataframe tbody tr th {\n",
       "        vertical-align: top;\n",
       "    }\n",
       "\n",
       "    .dataframe thead th {\n",
       "        text-align: right;\n",
       "    }\n",
       "</style>\n",
       "<table border=\"1\" class=\"dataframe\">\n",
       "  <thead>\n",
       "    <tr style=\"text-align: right;\">\n",
       "      <th></th>\n",
       "      <th>年収</th>\n",
       "      <th>手取り</th>\n",
       "      <th>税金</th>\n",
       "      <th>住民税</th>\n",
       "      <th>所得税</th>\n",
       "      <th>社会保険料</th>\n",
       "    </tr>\n",
       "  </thead>\n",
       "  <tbody>\n",
       "    <tr>\n",
       "      <td>0</td>\n",
       "      <td>2000000</td>\n",
       "      <td>2e+06</td>\n",
       "      <td>39345</td>\n",
       "      <td>28730</td>\n",
       "      <td>10615</td>\n",
       "      <td>24770</td>\n",
       "    </tr>\n",
       "    <tr>\n",
       "      <td>1</td>\n",
       "      <td>3000000</td>\n",
       "      <td>3e+06</td>\n",
       "      <td>125768</td>\n",
       "      <td>86345</td>\n",
       "      <td>39422</td>\n",
       "      <td>37155</td>\n",
       "    </tr>\n",
       "    <tr>\n",
       "      <td>2</td>\n",
       "      <td>4000000</td>\n",
       "      <td>3e+06</td>\n",
       "      <td>218190</td>\n",
       "      <td>147960</td>\n",
       "      <td>70230</td>\n",
       "      <td>49540</td>\n",
       "    </tr>\n",
       "    <tr>\n",
       "      <td>3</td>\n",
       "      <td>5000000</td>\n",
       "      <td>4e+06</td>\n",
       "      <td>326150</td>\n",
       "      <td>215575</td>\n",
       "      <td>110575</td>\n",
       "      <td>61925</td>\n",
       "    </tr>\n",
       "    <tr>\n",
       "      <td>4</td>\n",
       "      <td>6000000</td>\n",
       "      <td>5e+06</td>\n",
       "      <td>461380</td>\n",
       "      <td>283190</td>\n",
       "      <td>178190</td>\n",
       "      <td>74310</td>\n",
       "    </tr>\n",
       "  </tbody>\n",
       "</table>\n",
       "</div>"
      ],
      "text/plain": [
       "        年収    手取り      税金     住民税     所得税  社会保険料\n",
       "0  2000000  2e+06   39345   28730   10615  24770\n",
       "1  3000000  3e+06  125768   86345   39422  37155\n",
       "2  4000000  3e+06  218190  147960   70230  49540\n",
       "3  5000000  4e+06  326150  215575  110575  61925\n",
       "4  6000000  5e+06  461380  283190  178190  74310"
      ]
     },
     "execution_count": 52,
     "metadata": {},
     "output_type": "execute_result"
    }
   ],
   "source": [
    "df.head()"
   ]
  },
  {
   "cell_type": "code",
   "execution_count": 63,
   "metadata": {},
   "outputs": [
    {
     "data": {
      "image/png": "[encoded data removed]",
      "text/plain": [
       "<Figure size 864x504 with 1 Axes>"
      ]
     },
     "metadata": {
      "needs_background": "light"
     },
     "output_type": "display_data"
    }
   ],
   "source": [
    "df.index = ['200', '300', '400', '500', '600', '700',  '800', '900', '1000', '1100', '1200']\n",
    "plt.figure(figsize=(12,7))\n",
    "plt.rcParams[\"font.size\"] = 14\n",
    "plt.grid(axis='y')\n",
    "yticks = [0, 1000000, 2000000, 3000000, 4000000, 5000000, 6000000, 7000000, 8000000, 9000000, 10000000, 11000000, 12000000]\n",
    "plt.ylim(0, 12500000)\n",
    "plt.yticks(yticks)\n",
    "plt.bar(df.index, df['手取り'])\n",
    "plt.bar(df.index, df['税金'], bottom= df['手取り'])\n",
    "plt.bar(df.index, df['社会保険料'], bottom= df['手取り'] + df['税金'])\n",
    "plt.xlabel('Salary (yen*10000)')\n",
    "plt.ylabel('Breakdown (yen)')\n",
    "plt.title('')\n",
    "plt.legend(['net-salary', 'tax', 'insurance'])\n",
    "plt.show()"
   ]
  },
  {
   "cell_type": "code",
   "execution_count": null,
   "metadata": {},
   "outputs": [],
   "source": []
  }
 ],
 "metadata": {
  "kernelspec": {
   "display_name": "Python 3",
   "language": "python",
   "name": "python3"
  },
  "language_info": {
   "codemirror_mode": {
    "name": "ipython",
    "version": 3
   },
   "file_extension": ".py",
   "mimetype": "text/x-python",
   "name": "python",
   "nbconvert_exporter": "python",
   "pygments_lexer": "ipython3",
   "version": "3.7.7"
  },
  "pycharm": {
   "stem_cell": {
    "cell_type": "raw",
    "metadata": {
     "collapsed": false
    },
    "source": []
   }
  }
 },
 "nbformat": 4,
 "nbformat_minor": 2
}
